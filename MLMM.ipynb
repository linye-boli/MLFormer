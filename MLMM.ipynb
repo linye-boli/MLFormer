{
 "cells": [
  {
   "cell_type": "code",
   "execution_count": 1,
   "metadata": {},
   "outputs": [],
   "source": [
    "import torch \n",
    "import matplotlib.pyplot as plt\n",
    "from utils import * \n",
    "from mlmm import SmoothKernelMLMM\n",
    "from einops import rearrange, repeat\n",
    "import numpy as np"
   ]
  },
  {
   "cell_type": "code",
   "execution_count": 2,
   "metadata": {},
   "outputs": [],
   "source": [
    "torch.set_printoptions(precision=2, sci_mode=False, linewidth=100)"
   ]
  },
  {
   "cell_type": "code",
   "execution_count": 3,
   "metadata": {},
   "outputs": [
    {
     "name": "stderr",
     "output_type": "stream",
     "text": [
      "/opt/conda/lib/python3.10/site-packages/torch/functional.py:504: UserWarning: torch.meshgrid: in an upcoming release, it will be required to pass the indexing argument. (Triggered internally at /opt/conda/conda-bld/pytorch_1682343967769/work/aten/src/ATen/native/TensorShape.cpp:3483.)\n",
      "  return _VF.meshgrid(tensors, **kwargs)  # type: ignore[attr-defined]\n"
     ]
    }
   ],
   "source": [
    "# singular smooth kernel \n",
    "l = 5\n",
    "n = 2**l - 1\n",
    "xmin = -1\n",
    "xmax = 1\n",
    "h = (xmax - xmin)/(n+1)\n",
    "\n",
    "xh = torch.linspace(-1, 1, n+2)[1:-1][None][None] \n",
    "\n",
    "# input function\n",
    "uh = 1-xh**2\n",
    "\n",
    "# kernel function\n",
    "gh_X, gh_Y = torch.meshgrid(xh[0,0], xh[0,0])\n",
    "Khh = torch.log((gh_Y - gh_X).abs()+1e-5)[None][None]\n",
    "\n",
    "# output function(numeric)\n",
    "wh = multi_summation(Khh, uh, h)"
   ]
  },
  {
   "cell_type": "markdown",
   "metadata": {},
   "source": [
    "MLMM singular smooth case"
   ]
  },
  {
   "cell_type": "code",
   "execution_count": 4,
   "metadata": {},
   "outputs": [],
   "source": [
    "k = 2\n",
    "\n",
    "hs = []\n",
    "Ks = []\n",
    "us = []\n",
    "\n",
    "for i in range(k):\n",
    "    if i == 0:\n",
    "        hs.append(h)\n",
    "        Ks.append(Khh)\n",
    "        us.append(uh)\n",
    "        \n",
    "        H = h*2\n",
    "        KHH = Khh[:,:,1::2,1::2]\n",
    "        uH = restrict1d(uh)\n",
    "\n",
    "    else:\n",
    "        H = H*2\n",
    "        KHH = KHH[:,:,1::2,1::2]\n",
    "        uH = restrict1d(uH)\n",
    "    \n",
    "    hs.append(H)\n",
    "    Ks.append(KHH)\n",
    "    us.append(uH)"
   ]
  },
  {
   "cell_type": "code",
   "execution_count": 5,
   "metadata": {},
   "outputs": [],
   "source": [
    "# two grid fast matrix multiplcation\n",
    "# fine grid, level 1\n",
    "KHH = Ks[-1]\n",
    "uH = us[-1]\n",
    "H = hs[-1]\n",
    "\n",
    "Khh = Ks[-2]\n",
    "uh = us[-2]\n",
    "h = hs[-2]\n",
    "n = uh.shape[-1]"
   ]
  },
  {
   "cell_type": "code",
   "execution_count": 7,
   "metadata": {},
   "outputs": [],
   "source": [
    "# fetch nbrs idx\n",
    "m = 2\n",
    "idx_i, idx_j = fetch_nbrs(n, m)"
   ]
  },
  {
   "cell_type": "code",
   "execution_count": 11,
   "metadata": {},
   "outputs": [],
   "source": [
    "idx_i_even = idx_i[1::2]\n",
    "idx_j_even = idx_j[1::2]"
   ]
  },
  {
   "cell_type": "code",
   "execution_count": 15,
   "metadata": {},
   "outputs": [
    {
     "data": {
      "text/plain": [
       "torch.Size([1, 1, 15, 15])"
      ]
     },
     "execution_count": 15,
     "metadata": {},
     "output_type": "execute_result"
    }
   ],
   "source": [
    "KHH.shape"
   ]
  },
  {
   "cell_type": "code",
   "execution_count": 14,
   "metadata": {},
   "outputs": [
    {
     "data": {
      "text/plain": [
       "tensor([[ 0,  1,  2,  3,  4],\n",
       "        [ 2,  3,  4,  5,  6],\n",
       "        [ 4,  5,  6,  7,  8],\n",
       "        [ 6,  7,  8,  9, 10],\n",
       "        [ 8,  9, 10, 11, 12],\n",
       "        [10, 11, 12, 13, 14],\n",
       "        [12, 13, 14, 15, 16],\n",
       "        [14, 15, 16, 17, 18],\n",
       "        [16, 17, 18, 19, 20],\n",
       "        [18, 19, 20, 21, 22],\n",
       "        [20, 21, 22, 23, 24],\n",
       "        [22, 23, 24, 25, 26],\n",
       "        [24, 25, 26, 27, 28],\n",
       "        [26, 27, 28, 29, 30],\n",
       "        [28, 29, 30, 31, 32]])"
      ]
     },
     "execution_count": 14,
     "metadata": {},
     "output_type": "execute_result"
    }
   ],
   "source": [
    "idx_j_even"
   ]
  },
  {
   "cell_type": "code",
   "execution_count": 12,
   "metadata": {},
   "outputs": [
    {
     "data": {
      "text/plain": [
       "tensor([[ 2,  2,  2,  2,  2],\n",
       "        [ 4,  4,  4,  4,  4],\n",
       "        [ 6,  6,  6,  6,  6],\n",
       "        [ 8,  8,  8,  8,  8],\n",
       "        [10, 10, 10, 10, 10],\n",
       "        [12, 12, 12, 12, 12],\n",
       "        [14, 14, 14, 14, 14],\n",
       "        [16, 16, 16, 16, 16],\n",
       "        [18, 18, 18, 18, 18],\n",
       "        [20, 20, 20, 20, 20],\n",
       "        [22, 22, 22, 22, 22],\n",
       "        [24, 24, 24, 24, 24],\n",
       "        [26, 26, 26, 26, 26],\n",
       "        [28, 28, 28, 28, 28],\n",
       "        [30, 30, 30, 30, 30]])"
      ]
     },
     "execution_count": 12,
     "metadata": {},
     "output_type": "execute_result"
    }
   ],
   "source": [
    "idx_i_even"
   ]
  },
  {
   "cell_type": "code",
   "execution_count": null,
   "metadata": {},
   "outputs": [],
   "source": []
  }
 ],
 "metadata": {
  "kernelspec": {
   "display_name": "base",
   "language": "python",
   "name": "python3"
  },
  "language_info": {
   "codemirror_mode": {
    "name": "ipython",
    "version": 3
   },
   "file_extension": ".py",
   "mimetype": "text/x-python",
   "name": "python",
   "nbconvert_exporter": "python",
   "pygments_lexer": "ipython3",
   "version": "3.10.11"
  }
 },
 "nbformat": 4,
 "nbformat_minor": 2
}
