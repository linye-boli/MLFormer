{
 "cells": [
  {
   "cell_type": "code",
   "execution_count": 1,
   "metadata": {},
   "outputs": [],
   "source": [
    "import torch \n",
    "import matplotlib.pyplot as plt\n",
    "from utils import * \n",
    "from mlmm import *\n",
    "from dataset import smooth_kernel_case, singular_smooth_kernel_case, poisson_green_case"
   ]
  },
  {
   "cell_type": "code",
   "execution_count": 3,
   "metadata": {},
   "outputs": [],
   "source": [
    "l = 13 # number of level, total number of points is 2^l-1\n",
    "k = 5 # number of corase level\n",
    "m = 3 # local range for correction\n",
    "order = 2 # order of interpolation/restriction\n",
    "rl2 = LpLoss(size_average=False)"
   ]
  },
  {
   "cell_type": "markdown",
   "metadata": {},
   "source": [
    "MLMM smooth kernel case test"
   ]
  },
  {
   "cell_type": "code",
   "execution_count": 4,
   "metadata": {},
   "outputs": [
    {
     "name": "stderr",
     "output_type": "stream",
     "text": [
      "/opt/conda/lib/python3.10/site-packages/torch/functional.py:504: UserWarning: torch.meshgrid: in an upcoming release, it will be required to pass the indexing argument. (Triggered internally at /opt/conda/conda-bld/pytorch_1682343967769/work/aten/src/ATen/native/TensorShape.cpp:3483.)\n",
      "  return _VF.meshgrid(tensors, **kwargs)  # type: ignore[attr-defined]\n"
     ]
    },
    {
     "name": "stdout",
     "output_type": "stream",
     "text": [
      "numeircal accuracy : L1 - 2.08e-05, rL2 - 2.51e-05\n"
     ]
    }
   ],
   "source": [
    "uh, Khh, h, wh_numeric, wh_analytic, xh = smooth_kernel_case(l)\n",
    "wh_mlmm, KHH, Khh_correction_lst, nbr_idx_lst = SingularSmoothKernelMLMM_full(uh, Khh, h, k, order, m)\n",
    "l1_error = L1Norm(wh_mlmm, wh_analytic)\n",
    "rl2_error = rl2(wh_mlmm, wh_analytic)\n",
    "print(\"numeircal accuracy : L1 - {:.2e}, rL2 - {:.2e}\".format(l1_error, rl2_error))"
   ]
  },
  {
   "cell_type": "markdown",
   "metadata": {},
   "source": [
    "MLMM singular smooth case"
   ]
  },
  {
   "cell_type": "code",
   "execution_count": 5,
   "metadata": {},
   "outputs": [
    {
     "name": "stdout",
     "output_type": "stream",
     "text": [
      "numeircal accuracy : L1 - 2.02e-03, rL2 - 7.21e-03\n"
     ]
    }
   ],
   "source": [
    "uh, Khh, h, wh_numeric, xh = singular_smooth_kernel_case(l)\n",
    "wh_mlmm, KHH, Khh_correction_lst, nbr_idx_lst = SingularSmoothKernelMLMM_full(uh, Khh, h, k, order, m)\n",
    "l1_error = L1Norm(wh_mlmm, wh_numeric)\n",
    "rl2_error = rl2(wh_mlmm, wh_numeric)\n",
    "print(\"numeircal accuracy : L1 - {:.2e}, rL2 - {:.2e}\".format(l1_error, rl2_error))"
   ]
  },
  {
   "cell_type": "markdown",
   "metadata": {},
   "source": [
    "MLMM 1d poission green function"
   ]
  },
  {
   "cell_type": "code",
   "execution_count": 6,
   "metadata": {},
   "outputs": [
    {
     "name": "stdout",
     "output_type": "stream",
     "text": [
      "numeircal accuracy : L1 - 1.53e-09, rL2 - 1.20e-07\n"
     ]
    }
   ],
   "source": [
    "uh, Khh, h, wh_numeric, wh_analytic, xh = poisson_green_case(l)\n",
    "wh_mlmm, KHH, Khh_correction_lst, nbr_idx_lst = SingularSmoothKernelMLMM_full(uh, Khh, h, k, order, m)\n",
    "l1_error = L1Norm(wh_mlmm, wh_analytic)\n",
    "rl2_error = rl2(wh_mlmm, wh_analytic)\n",
    "print(\"numeircal accuracy : L1 - {:.2e}, rL2 - {:.2e}\".format(l1_error, rl2_error))"
   ]
  },
  {
   "cell_type": "code",
   "execution_count": 7,
   "metadata": {},
   "outputs": [
    {
     "name": "stdout",
     "output_type": "stream",
     "text": [
      "4.14 ms ± 99.3 µs per loop (mean ± std. dev. of 7 runs, 100 loops each)\n"
     ]
    }
   ],
   "source": [
    "%%timeit \n",
    "wh = multi_summation(Khh, uh, h)"
   ]
  },
  {
   "cell_type": "code",
   "execution_count": 9,
   "metadata": {},
   "outputs": [
    {
     "name": "stdout",
     "output_type": "stream",
     "text": [
      "2.33 ms ± 191 µs per loop (mean ± std. dev. of 7 runs, 100 loops each)\n"
     ]
    }
   ],
   "source": [
    "%%timeit\n",
    "wh_mlmm = SingularSmoothKernelMLMM(KHH, uh, h, Khh_correction_lst, nbr_idx_lst)"
   ]
  },
  {
   "cell_type": "code",
   "execution_count": null,
   "metadata": {},
   "outputs": [],
   "source": []
  }
 ],
 "metadata": {
  "kernelspec": {
   "display_name": "base",
   "language": "python",
   "name": "python3"
  },
  "language_info": {
   "codemirror_mode": {
    "name": "ipython",
    "version": 3
   },
   "file_extension": ".py",
   "mimetype": "text/x-python",
   "name": "python",
   "nbconvert_exporter": "python",
   "pygments_lexer": "ipython3",
   "version": "3.10.11"
  }
 },
 "nbformat": 4,
 "nbformat_minor": 2
}
