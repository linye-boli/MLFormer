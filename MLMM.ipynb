{
 "cells": [
  {
   "cell_type": "code",
   "execution_count": 1,
   "metadata": {},
   "outputs": [],
   "source": [
    "import torch \n",
    "import matplotlib.pyplot as plt\n",
    "from utils import * \n",
    "from mlmm import SmoothKernelMLMM\n",
    "from einops import rearrange"
   ]
  },
  {
   "cell_type": "code",
   "execution_count": 2,
   "metadata": {},
   "outputs": [],
   "source": [
    "# torch.set_printoptions(precision=2, sci_mode=False, linewidth=100)"
   ]
  },
  {
   "cell_type": "code",
   "execution_count": 3,
   "metadata": {},
   "outputs": [],
   "source": [
    "# smooth kernel \n",
    "# l = 8\n",
    "# n = 2**l - 1\n",
    "# xh = torch.linspace(0, torch.pi, n+2)[1:-1]\n",
    "# h = xh[0]\n",
    "\n",
    "# # input function\n",
    "# uh = torch.sin(xh)**2\n",
    "\n",
    "# # kernel function\n",
    "# gh_X, gh_Y = torch.meshgrid(xh, xh)\n",
    "# Khh = torch.cos(gh_Y - gh_X)\n",
    "\n",
    "# # # output function(numeric)\n",
    "# # wh = h * Khh @ uh \n",
    "\n",
    "# # analytics\n",
    "# wh_gt = torch.sin(xh) * 4/3"
   ]
  },
  {
   "cell_type": "code",
   "execution_count": 4,
   "metadata": {},
   "outputs": [
    {
     "name": "stderr",
     "output_type": "stream",
     "text": [
      "/opt/conda/lib/python3.10/site-packages/torch/functional.py:504: UserWarning: torch.meshgrid: in an upcoming release, it will be required to pass the indexing argument. (Triggered internally at /opt/conda/conda-bld/pytorch_1682343967769/work/aten/src/ATen/native/TensorShape.cpp:3483.)\n",
      "  return _VF.meshgrid(tensors, **kwargs)  # type: ignore[attr-defined]\n"
     ]
    }
   ],
   "source": [
    "# singular smooth kernel \n",
    "\n",
    "l = 4\n",
    "n = 2**l - 1\n",
    "xh = torch.linspace(-1, 1, n+2)[1:-1]\n",
    "h = xh[1] - xh[0]\n",
    "\n",
    "# input function\n",
    "uh = 1-xh**2\n",
    "\n",
    "# kernel function\n",
    "gh_X, gh_Y = torch.meshgrid(xh, xh)\n",
    "Khh = torch.log((gh_Y - gh_X).abs()+1e-5)\n",
    "\n",
    "# # output function(numeric)\n",
    "wh = h * Khh @ uh "
   ]
  },
  {
   "cell_type": "code",
   "execution_count": 5,
   "metadata": {},
   "outputs": [],
   "source": [
    "k = 2\n",
    "H = 2**3*h\n",
    "\n",
    "hs = []\n",
    "for i in range(k):\n",
    "    if i == 0:\n",
    "        hs.append(h)\n",
    "        H = h*2\n",
    "    else:\n",
    "        H = H*2\n",
    "    hs.append(H)\n",
    "\n",
    "Ks = []\n",
    "for i in range(k):\n",
    "    if i == 0:\n",
    "        Ks.append(Khh)\n",
    "        KHH = Khh[1::2,1::2] # inject Khh to KHH\n",
    "    else:\n",
    "        KHH = KHH[1::2,1::2]\n",
    "    Ks.append(KHH)\n",
    "\n",
    "us = []\n",
    "for i in range(k):\n",
    "    if i == 0:\n",
    "        us.append(rearrange(uh, 'n -> n 1'))\n",
    "        uH = restrict1d(uh[None][None])\n",
    "    else:\n",
    "        uH = restrict1d(uH) # restrict uh to uH \n",
    "    us.append(rearrange(uH, '1 1 n -> n 1'))"
   ]
  },
  {
   "cell_type": "code",
   "execution_count": 6,
   "metadata": {},
   "outputs": [],
   "source": [
    "# coarest grid, level 1\n",
    "KHH = Ks[-1]\n",
    "uH = us[-1]\n",
    "H = hs[-1]\n",
    "\n",
    "Khh = Ks[-2]\n",
    "uh = us[-2]\n",
    "h = hs[-2]"
   ]
  },
  {
   "cell_type": "code",
   "execution_count": 7,
   "metadata": {},
   "outputs": [],
   "source": [
    "wH = H * KHH @ uH\n",
    "\n",
    "Khh_even_ = interp1d_cols(KHH[None][None])[0,0]\n",
    "Khh_even = Khh[1::2]"
   ]
  },
  {
   "cell_type": "code",
   "execution_count": 73,
   "metadata": {},
   "outputs": [],
   "source": [
    "m = 1\n",
    "n = uH.shape[0]\n",
    "idx_H = range(1, n+1)\n",
    "idx_h = range(1, 2*n+1 + 1)"
   ]
  },
  {
   "cell_type": "code",
   "execution_count": 74,
   "metadata": {},
   "outputs": [],
   "source": [
    "even_npad = 1-(2-m)\n",
    "if even_npad > 0:\n",
    "    even_nbrs = [[0,0]] * even_npad\n",
    "else:\n",
    "    even_nbrs = []\n",
    "\n",
    "for I in idx_H:\n",
    "    for j in idx_h:\n",
    "        if abs(2*I - j) <= m:\n",
    "            even_nbrs.append([I, j])\n",
    "\n",
    "if even_npad > 0:\n",
    "    even_nbrs += [[0,0]] * even_npad\n",
    "\n",
    "even_nbrs = torch.tensor(even_nbrs)"
   ]
  },
  {
   "cell_type": "code",
   "execution_count": 75,
   "metadata": {},
   "outputs": [],
   "source": [
    "idx_H = range(1, n+2)\n",
    "odd_nbrs = []\n",
    "for I in idx_H:\n",
    "    for j in idx_h:\n",
    "        if abs(2*I-1 - j) <= m:\n",
    "            odd_nbrs.append([I, j])\n",
    "odd_nbrs = torch.tensor(odd_nbrs)"
   ]
  },
  {
   "cell_type": "code",
   "execution_count": 76,
   "metadata": {},
   "outputs": [],
   "source": [
    "even_nbrs_x, even_nbrs_y = even_nbrs[:,0]-1, even_nbrs[:,1]-1\n",
    "even_nbrs_mask = even_nbrs_x>0\n",
    "Khh_even_diff = Khh_even[even_nbrs_x, even_nbrs_y] - Khh_even_[even_nbrs_x, even_nbrs_y]\n",
    "Khh_even_diff_chunk = rearrange(Khh_even_diff, '(I m) -> I m', m = 2*m+1, I = n)\n",
    "uh_even_chunk = rearrange(uh[even_nbrs_y], '(I m) 1-> I m', m = 2*m+1, I = n)\n",
    "mask_even_chunk = rearrange(even_nbrs_mask, '(I m)-> I m', m = 2*m+1, I = n)\n",
    "wh_even_cor = (Khh_even_diff_chunk * uh_even_chunk * mask_even_chunk).sum(axis=1, keepdim=True)"
   ]
  },
  {
   "cell_type": "code",
   "execution_count": 77,
   "metadata": {},
   "outputs": [],
   "source": [
    "wh_even = wH + wh_even_cor * h"
   ]
  },
  {
   "cell_type": "code",
   "execution_count": 78,
   "metadata": {},
   "outputs": [
    {
     "data": {
      "text/plain": [
       "tensor([[-2.8221],\n",
       "        [-3.8192],\n",
       "        [-2.8221]])"
      ]
     },
     "execution_count": 78,
     "metadata": {},
     "output_type": "execute_result"
    }
   ],
   "source": [
    "h*Khh[1::2]@uh"
   ]
  },
  {
   "cell_type": "code",
   "execution_count": 80,
   "metadata": {},
   "outputs": [
    {
     "data": {
      "text/plain": [
       "tensor([[-4.4255],\n",
       "        [-6.0244],\n",
       "        [-4.4255]])"
      ]
     },
     "execution_count": 80,
     "metadata": {},
     "output_type": "execute_result"
    }
   ],
   "source": [
    "wH"
   ]
  },
  {
   "cell_type": "code",
   "execution_count": 81,
   "metadata": {},
   "outputs": [
    {
     "data": {
      "text/plain": [
       "tensor([[-4.4255],\n",
       "        [-3.8318],\n",
       "        [-2.8598]])"
      ]
     },
     "execution_count": 81,
     "metadata": {},
     "output_type": "execute_result"
    }
   ],
   "source": [
    "wh_even"
   ]
  },
  {
   "cell_type": "code",
   "execution_count": 15,
   "metadata": {},
   "outputs": [],
   "source": [
    "wh_odd_ = rearrange(interp1d(rearrange(wh_even, 'H 1->1 1 H')), '1 1 h->h 1')[::2]"
   ]
  },
  {
   "cell_type": "code",
   "execution_count": 36,
   "metadata": {},
   "outputs": [],
   "source": []
  },
  {
   "cell_type": "code",
   "execution_count": 38,
   "metadata": {},
   "outputs": [],
   "source": [
    "even_nbrs = []\n",
    "for I in idx_H:\n",
    "    for j in idx_h:\n",
    "        if abs(2*I - j) <= m:\n",
    "            if (I == 1) & (j == 1):\n",
    "                even_nbrs.append([])\n",
    "            even_nbrs.append([I, j])\n",
    "even_nbrs = torch.tensor(even_nbrs)"
   ]
  },
  {
   "cell_type": "code",
   "execution_count": null,
   "metadata": {},
   "outputs": [],
   "source": []
  },
  {
   "cell_type": "code",
   "execution_count": 39,
   "metadata": {},
   "outputs": [
    {
     "data": {
      "text/plain": [
       "tensor([[1, 1],\n",
       "        [1, 2],\n",
       "        [1, 3],\n",
       "        [2, 3],\n",
       "        [2, 4],\n",
       "        [2, 5],\n",
       "        [3, 5],\n",
       "        [3, 6],\n",
       "        [3, 7],\n",
       "        [4, 7]])"
      ]
     },
     "execution_count": 39,
     "metadata": {},
     "output_type": "execute_result"
    }
   ],
   "source": [
    "even_nbrs"
   ]
  },
  {
   "cell_type": "code",
   "execution_count": 37,
   "metadata": {},
   "outputs": [
    {
     "data": {
      "text/plain": [
       "[[1, 1],\n",
       " [1, 2],\n",
       " [2, 2],\n",
       " [2, 3],\n",
       " [2, 4],\n",
       " [3, 4],\n",
       " [3, 5],\n",
       " [3, 6],\n",
       " [4, 6],\n",
       " [4, 7]]"
      ]
     },
     "execution_count": 37,
     "metadata": {},
     "output_type": "execute_result"
    }
   ],
   "source": [
    "odd_nbrs"
   ]
  },
  {
   "cell_type": "code",
   "execution_count": 32,
   "metadata": {},
   "outputs": [
    {
     "data": {
      "text/plain": [
       "torch.Size([4, 1])"
      ]
     },
     "execution_count": 32,
     "metadata": {},
     "output_type": "execute_result"
    }
   ],
   "source": [
    "wh_odd_.shape"
   ]
  },
  {
   "cell_type": "code",
   "execution_count": 6,
   "metadata": {},
   "outputs": [],
   "source": [
    "# for i = 2I, wh_even full calculation\n",
    "wh_even = h * Khh[1::2,:] @ uh"
   ]
  },
  {
   "cell_type": "code",
   "execution_count": 7,
   "metadata": {},
   "outputs": [],
   "source": [
    "# for i = 2I, wh_even_ mlmm\n",
    "wH = H * KHH @ uH\n",
    "Khh_even_correct = Khh[1::2,:] - interp1d_cols(KHH[None][None])[0][0]\n",
    "wh_decomp = wH + h*Khh_even_correct @ uh"
   ]
  },
  {
   "cell_type": "code",
   "execution_count": 8,
   "metadata": {},
   "outputs": [],
   "source": [
    "idx_h = list(range(1, n+1))\n",
    "idx_H = idx_h[1::2]"
   ]
  },
  {
   "cell_type": "code",
   "execution_count": 34,
   "metadata": {},
   "outputs": [],
   "source": [
    "m = 3\n",
    "m2_even_nbrs = []\n",
    "for i in idx_H:\n",
    "    i_nbrs = []\n",
    "    for j in idx_h:\n",
    "        if abs(i-j) <= m:\n",
    "            i_nbrs.append([i, j])\n",
    "    m2_even_nbrs.append(i_nbrs)\n",
    "\n",
    "for i_nbrs in m2_even_nbrs:\n",
    "    i_nbrs = torch.tensor(i_nbrs)\n",
    "    "
   ]
  },
  {
   "cell_type": "code",
   "execution_count": null,
   "metadata": {},
   "outputs": [],
   "source": []
  },
  {
   "cell_type": "code",
   "execution_count": null,
   "metadata": {},
   "outputs": [],
   "source": []
  },
  {
   "cell_type": "code",
   "execution_count": null,
   "metadata": {},
   "outputs": [],
   "source": []
  },
  {
   "cell_type": "code",
   "execution_count": null,
   "metadata": {},
   "outputs": [],
   "source": []
  },
  {
   "cell_type": "code",
   "execution_count": 72,
   "metadata": {},
   "outputs": [
    {
     "data": {
      "text/plain": [
       "[<matplotlib.lines.Line2D at 0x7f16c81a4a30>]"
      ]
     },
     "execution_count": 72,
     "metadata": {},
     "output_type": "execute_result"
    },
    {
     "data": {
      "image/png": "[encoded data removed]",
      "text/plain": [
       "<Figure size 640x480 with 1 Axes>"
      ]
     },
     "metadata": {},
     "output_type": "display_data"
    }
   ],
   "source": [
    "plt.plot(xh[1::2], wh_even, '-r')\n",
    "plt.plot(xh[1::2], wH, '-b')\n",
    "plt.plot(xh[1::2], wh_decomp, '-y')"
   ]
  },
  {
   "cell_type": "code",
   "execution_count": 58,
   "metadata": {},
   "outputs": [],
   "source": [
    "# plt.plot(xh, wh, '-r')\n",
    "# plt.plot(xh[1::2], wH, '-b')"
   ]
  },
  {
   "cell_type": "code",
   "execution_count": null,
   "metadata": {},
   "outputs": [],
   "source": []
  },
  {
   "cell_type": "code",
   "execution_count": 25,
   "metadata": {},
   "outputs": [],
   "source": [
    "# plt.plot(xh, wh_gt, '-r', label='analytics')\n",
    "# plt.plot(xh, wh, '--b', label='numeric')"
   ]
  },
  {
   "cell_type": "code",
   "execution_count": 6,
   "metadata": {},
   "outputs": [],
   "source": [
    "# for k in range(5):\n",
    "#     wh = SmoothKernelMLMM(uh[None][None], Khh[None][None], h, k)\n",
    "#     L1 = (wh[0,0] - wh_gt).abs().sum()/(n+1)\n",
    "#     print(k, L1)"
   ]
  },
  {
   "cell_type": "code",
   "execution_count": 7,
   "metadata": {},
   "outputs": [],
   "source": [
    "# plt.plot(xh, wh[0,0], '--r', label='mlmm')\n",
    "# plt.plot(xh, wh_gt, '-b', label='analytic')\n",
    "# plt.legend()"
   ]
  },
  {
   "cell_type": "code",
   "execution_count": 8,
   "metadata": {},
   "outputs": [],
   "source": [
    "uh = uh[None][None]"
   ]
  },
  {
   "cell_type": "code",
   "execution_count": 9,
   "metadata": {},
   "outputs": [],
   "source": [
    "L = 1\n",
    "m = 1\n",
    "n = 2**L + 1\n",
    "I = torch.arange(1,n+1)\n",
    "i = torch.arange(1,2*n+1)\n",
    "\n",
    "j_even = I * 2 # next level even J is same as previous 2*I\n",
    "i_even = I * 2\n",
    "\n",
    "j_odd = torch.cat((torch.tensor([1]), I*2+1))"
   ]
  },
  {
   "cell_type": "code",
   "execution_count": 10,
   "metadata": {},
   "outputs": [],
   "source": [
    "uH = restrict1d(uh)"
   ]
  },
  {
   "cell_type": "code",
   "execution_count": 11,
   "metadata": {},
   "outputs": [],
   "source": [
    "uh_pad = F.pad(uh,(m,m,0,0,0,0),'constant',0)"
   ]
  },
  {
   "cell_type": "code",
   "execution_count": 12,
   "metadata": {},
   "outputs": [],
   "source": [
    "window = torch.eye(2*m+1)\n",
    "window = rearrange(window, 'm n -> m 1 n')\n",
    "uh_chunk = F.conv1d(uh_pad, window)"
   ]
  },
  {
   "cell_type": "code",
   "execution_count": 13,
   "metadata": {},
   "outputs": [],
   "source": [
    "uh_chunk_even = uh_chunk[:,:,1::2]"
   ]
  },
  {
   "cell_type": "code",
   "execution_count": 14,
   "metadata": {},
   "outputs": [],
   "source": [
    "KHH = Khh[1::2,1::2][None][None]"
   ]
  },
  {
   "cell_type": "code",
   "execution_count": 15,
   "metadata": {},
   "outputs": [],
   "source": [
    "KHh_ = interp1d_cols(KHH)"
   ]
  },
  {
   "cell_type": "code",
   "execution_count": 17,
   "metadata": {},
   "outputs": [],
   "source": [
    "Khh_ = interp1d_rows(KHh_)"
   ]
  },
  {
   "cell_type": "code",
   "execution_count": 36,
   "metadata": {},
   "outputs": [],
   "source": [
    "KHh = interp1d(rearrange(KHH, 'b c HI HJ -> (b HI) c HJ'))\n",
    "KHh = rearrange(KHh, '(b H) c h-> b c H h', b = 1, c=1, H=3, h=7)"
   ]
  },
  {
   "cell_type": "code",
   "execution_count": null,
   "metadata": {},
   "outputs": [],
   "source": []
  }
 ],
 "metadata": {
  "kernelspec": {
   "display_name": "base",
   "language": "python",
   "name": "python3"
  },
  "language_info": {
   "codemirror_mode": {
    "name": "ipython",
    "version": 3
   },
   "file_extension": ".py",
   "mimetype": "text/x-python",
   "name": "python",
   "nbconvert_exporter": "python",
   "pygments_lexer": "ipython3",
   "version": "3.10.11"
  }
 },
 "nbformat": 4,
 "nbformat_minor": 2
}
