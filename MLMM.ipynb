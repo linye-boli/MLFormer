{
 "cells": [
  {
   "cell_type": "code",
   "execution_count": 1,
   "metadata": {},
   "outputs": [],
   "source": [
    "import torch \n",
    "import matplotlib.pyplot as plt\n",
    "from utils import * \n",
    "from mlmm import *\n",
    "from einops import rearrange, repeat\n",
    "import numpy as np"
   ]
  },
  {
   "cell_type": "code",
   "execution_count": 2,
   "metadata": {},
   "outputs": [],
   "source": [
    "# torch.set_printoptions(precision=2, sci_mode=False, linewidth=120)"
   ]
  },
  {
   "cell_type": "code",
   "execution_count": 3,
   "metadata": {},
   "outputs": [
    {
     "name": "stderr",
     "output_type": "stream",
     "text": [
      "/opt/conda/lib/python3.10/site-packages/torch/functional.py:504: UserWarning: torch.meshgrid: in an upcoming release, it will be required to pass the indexing argument. (Triggered internally at /opt/conda/conda-bld/pytorch_1682343967769/work/aten/src/ATen/native/TensorShape.cpp:3483.)\n",
      "  return _VF.meshgrid(tensors, **kwargs)  # type: ignore[attr-defined]\n"
     ]
    }
   ],
   "source": [
    "# singular smooth kernel \n",
    "l = 13\n",
    "n = 2**l - 1\n",
    "xmin = -1\n",
    "xmax = 1\n",
    "h = (xmax - xmin)/(n+1)\n",
    "\n",
    "xh = torch.linspace(-1, 1, n+2)[1:-1][None][None] \n",
    "\n",
    "# input function\n",
    "uh = 1-xh**2\n",
    "\n",
    "# kernel function\n",
    "gh_X, gh_Y = torch.meshgrid(xh[0,0], xh[0,0])\n",
    "Khh = torch.log((gh_Y - gh_X).abs()+1e-5)[None][None]\n",
    "\n",
    "# output function(numeric)\n",
    "wh = multi_summation(Khh, uh, h)"
   ]
  },
  {
   "cell_type": "code",
   "execution_count": 4,
   "metadata": {},
   "outputs": [],
   "source": [
    "rl2 = LpLoss(size_average=False)"
   ]
  },
  {
   "cell_type": "markdown",
   "metadata": {},
   "source": [
    "MLMM singular smooth case"
   ]
  },
  {
   "cell_type": "code",
   "execution_count": 12,
   "metadata": {},
   "outputs": [],
   "source": [
    "order = 2\n",
    "m = 1\n",
    "k = 4"
   ]
  },
  {
   "cell_type": "code",
   "execution_count": 13,
   "metadata": {},
   "outputs": [
    {
     "name": "stdout",
     "output_type": "stream",
     "text": [
      "L1 - 1.76e-03, rL2 - 5.14e-03\n"
     ]
    }
   ],
   "source": [
    "wh_, KHH, Khh_correction_lst, nbr_idx_lst = SingularSmoothKernelMLMM(uh, Khh, h, k, order, m)\n",
    "l1_error = L1Norm(wh_, wh)\n",
    "rl2_error = rl2(wh_, wh)\n",
    "print(\"L1 - {:.2e}, rL2 - {:.2e}\".format(l1_error, rl2_error))"
   ]
  },
  {
   "cell_type": "code",
   "execution_count": 14,
   "metadata": {},
   "outputs": [
    {
     "name": "stdout",
     "output_type": "stream",
     "text": [
      "4.14 ms ± 74.3 µs per loop (mean ± std. dev. of 7 runs, 100 loops each)\n"
     ]
    }
   ],
   "source": [
    "%%timeit \n",
    "wh = multi_summation(Khh, uh, h)"
   ]
  },
  {
   "cell_type": "code",
   "execution_count": 15,
   "metadata": {},
   "outputs": [
    {
     "name": "stdout",
     "output_type": "stream",
     "text": [
      "2.08 ms ± 27.8 µs per loop (mean ± std. dev. of 7 runs, 100 loops each)\n"
     ]
    }
   ],
   "source": [
    "%%timeit\n",
    "wh_ = SingularSmoothKernelMLMM_(KHH, uh, h, Khh_correction_lst, nbr_idx_lst)\n",
    "l1_error = L1Norm(wh_, wh)\n",
    "rl2_error = rl2(wh_, wh)\n",
    "# print(\"L1 - {:.2e}, rL2 - {:.2e}\".format(l1_error, rl2_error))"
   ]
  },
  {
   "cell_type": "code",
   "execution_count": 18,
   "metadata": {},
   "outputs": [],
   "source": [
    "# error_lst = []\n",
    "# for k in range(1, 12):\n",
    "#     wh_ = SingularSmoothKernelMLMM(uh, Khh, h, k, order, m)\n",
    "#     l1_error = L1Norm(wh_[0], wh)\n",
    "#     print(l1_error)\n",
    "#     error_lst.append(l1_error)\n",
    "\n",
    "# plt.plot(np.arange(1,12), error_lst)\n",
    "# plt.yscale('log')"
   ]
  }
 ],
 "metadata": {
  "kernelspec": {
   "display_name": "base",
   "language": "python",
   "name": "python3"
  },
  "language_info": {
   "codemirror_mode": {
    "name": "ipython",
    "version": 3
   },
   "file_extension": ".py",
   "mimetype": "text/x-python",
   "name": "python",
   "nbconvert_exporter": "python",
   "pygments_lexer": "ipython3",
   "version": "3.10.11"
  }
 },
 "nbformat": 4,
 "nbformat_minor": 2
}
