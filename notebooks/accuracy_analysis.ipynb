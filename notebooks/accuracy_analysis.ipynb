{
 "cells": [
  {
   "cell_type": "code",
   "execution_count": 1,
   "metadata": {},
   "outputs": [],
   "source": [
    "import pandas as pd \n",
    "import os "
   ]
  },
  {
   "cell_type": "code",
   "execution_count": 2,
   "metadata": {},
   "outputs": [],
   "source": [
    "model_nms = ['FNO']\n",
    "kernel_nms = ['cosine', 'lnabs', 'laplace', 'advection_diffusion', 'helmholtz', 'negative_helmholtz']"
   ]
  },
  {
   "cell_type": "code",
   "execution_count": 3,
   "metadata": {},
   "outputs": [],
   "source": [
    "log_root = '/workdir/MLFormer/results/'"
   ]
  },
  {
   "cell_type": "code",
   "execution_count": 4,
   "metadata": {},
   "outputs": [
    {
     "name": "stdout",
     "output_type": "stream",
     "text": [
      "FNO cosine 4.20e-03\n",
      "FNO lnabs 3.05e-03\n",
      "FNO laplace 2.83e-03\n",
      "FNO advection_diffusion 3.41e-03\n",
      "FNO helmholtz 5.86e-03\n",
      "FNO negative_helmholtz 2.55e-03\n"
     ]
    }
   ],
   "source": [
    "for kernel_nm in kernel_nms:\n",
    "    for model_nm in  model_nms:\n",
    "        hist_path = os.path.join(log_root, kernel_nm, model_nm, 'hist.csv')\n",
    "        print(model_nm, kernel_nm, \"{:.2e}\".format(pd.read_csv(hist_path).test_rl2.min()))"
   ]
  },
  {
   "cell_type": "code",
   "execution_count": 5,
   "metadata": {},
   "outputs": [
    {
     "data": {
      "text/plain": [
       "'/workdir/MLFormer/results/negative_helmholtz/FNO/hist.csv'"
      ]
     },
     "execution_count": 5,
     "metadata": {},
     "output_type": "execute_result"
    }
   ],
   "source": [
    "hist_path"
   ]
  },
  {
   "cell_type": "code",
   "execution_count": 6,
   "metadata": {},
   "outputs": [
    {
     "ename": "NameError",
     "evalue": "name 'hist_paths' is not defined",
     "output_type": "error",
     "traceback": [
      "\u001b[0;31m---------------------------------------------------------------------------\u001b[0m",
      "\u001b[0;31mNameError\u001b[0m                                 Traceback (most recent call last)",
      "\u001b[1;32m/workdir/MLFormer/notebooks/accuracy_analysis.ipynb Cell 6\u001b[0m line \u001b[0;36m1\n\u001b[0;32m----> <a href='vscode-notebook-cell://attached-container%2B7b22636f6e7461696e65724e616d65223a222f504445227d@ssh-remote%2B192.168.200.237/workdir/MLFormer/notebooks/accuracy_analysis.ipynb#W5sdnNjb2RlLXJlbW90ZQ%3D%3D?line=0'>1</a>\u001b[0m pd\u001b[39m.\u001b[39mread_csv(hist_paths[\u001b[39m0\u001b[39m])\n",
      "\u001b[0;31mNameError\u001b[0m: name 'hist_paths' is not defined"
     ]
    }
   ],
   "source": [
    "pd.read_csv(hist_paths[0])"
   ]
  },
  {
   "cell_type": "code",
   "execution_count": 15,
   "metadata": {},
   "outputs": [],
   "source": [
    "import torch "
   ]
  },
  {
   "cell_type": "code",
   "execution_count": null,
   "metadata": {},
   "outputs": [],
   "source": []
  }
 ],
 "metadata": {
  "kernelspec": {
   "display_name": "base",
   "language": "python",
   "name": "python3"
  },
  "language_info": {
   "codemirror_mode": {
    "name": "ipython",
    "version": 3
   },
   "file_extension": ".py",
   "mimetype": "text/x-python",
   "name": "python",
   "nbconvert_exporter": "python",
   "pygments_lexer": "ipython3",
   "version": "3.10.11"
  }
 },
 "nbformat": 4,
 "nbformat_minor": 2
}
