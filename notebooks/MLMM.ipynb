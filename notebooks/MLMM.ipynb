{
 "cells": [
  {
   "cell_type": "code",
   "execution_count": 1,
   "metadata": {},
   "outputs": [],
   "source": [
    "import sys \n",
    "sys.path.append('../')\n",
    "\n",
    "import torch \n",
    "import matplotlib.pyplot as plt\n",
    "from utils import * \n",
    "from mlmm import *\n",
    "from dataset import reference_test"
   ]
  },
  {
   "cell_type": "code",
   "execution_count": 2,
   "metadata": {},
   "outputs": [],
   "source": [
    "# torch.set_printoptions(sci_mode=False)\n",
    "# np.set_printoptions(formatter={'float_kind':'{:0.2e}'.format})"
   ]
  },
  {
   "cell_type": "code",
   "execution_count": 3,
   "metadata": {},
   "outputs": [],
   "source": [
    "l = 13 # number of level, total number of points is 2^l-1\n",
    "k = 5 # number of corase level\n",
    "m = 7 # local range for correction\n",
    "order = 2 # order of interpolation/restriction"
   ]
  },
  {
   "cell_type": "markdown",
   "metadata": {},
   "source": [
    "#### MLMM accuracy test"
   ]
  },
  {
   "cell_type": "code",
   "execution_count": 4,
   "metadata": {},
   "outputs": [],
   "source": [
    "kernels = ['cosine', 'lnabs', 'laplace', 'helmholtz']"
   ]
  },
  {
   "cell_type": "code",
   "execution_count": 5,
   "metadata": {},
   "outputs": [
    {
     "name": "stdout",
     "output_type": "stream",
     "text": [
      "cosine-smooth : L1 - 2.13e-05, rL2 - 2.57e-05\n",
      "cosine-singular : L1 - 2.03e-05, rL2 - 2.44e-05\n",
      "--------------------------------------\n",
      "lnabs-smooth : L1 - 7.24e+01, rL2 - 4.23e-01\n",
      "lnabs-singular : L1 - 3.25e-01, rL2 - 2.55e-03\n",
      "--------------------------------------\n",
      "laplace-smooth : L1 - 1.06e-07, rL2 - 3.55e-05\n",
      "laplace-singular : L1 - 1.12e-09, rL2 - 3.44e-07\n",
      "--------------------------------------\n",
      "helmholtz-smooth : L1 - 2.57e-06, rL2 - 5.24e-04\n",
      "helmholtz-singular : L1 - 2.70e-06, rL2 - 6.24e-04\n",
      "--------------------------------------\n"
     ]
    }
   ],
   "source": [
    "for kernel in kernels:\n",
    "    uh, Khh, h, wh_numeric, wh_analytic, xh = reference_test(l, kernel)\n",
    "    wh_smooth_ml, KHH = SmoothKernelMLMM_full(uh, Khh, h, k, order)\n",
    "    l1 = l1_norm(wh_smooth_ml[-1], wh_numeric)\n",
    "    rl2 = rl2_error(wh_smooth_ml[-1], wh_numeric)\n",
    "    print(\"{:}-smooth : L1 - {:.2e}, rL2 - {:.2e}\".format(kernel, l1, rl2))\n",
    "    wh_singular_ml, KHH, Khh_banddiff_lst, boundary_lst, idx_j_lst = SingularSmoothKernelMLMM_local(uh, Khh, h, k, order, m)\n",
    "    l1 = l1_norm(wh_singular_ml[-1], wh_numeric)\n",
    "    rl2 = rl2_error(wh_singular_ml[-1], wh_numeric)\n",
    "    print(\"{:}-singular : L1 - {:.2e}, rL2 - {:.2e}\".format(kernel, l1, rl2))\n",
    "    print('--------------------------------------')"
   ]
  },
  {
   "cell_type": "markdown",
   "metadata": {},
   "source": [
    "#### MLMM accuracy on different range of local correction\n",
    "wider local correction range will give better accuracy on \"cosine\", \"lnabs\""
   ]
  },
  {
   "cell_type": "code",
   "execution_count": 6,
   "metadata": {},
   "outputs": [
    {
     "name": "stdout",
     "output_type": "stream",
     "text": [
      "cosine-singular m-3 : L1 - 2.08e-05, rL2 - 2.51e-05\n",
      "cosine-singular m-7 : L1 - 2.03e-05, rL2 - 2.44e-05\n",
      "cosine-singular m-15 : L1 - 1.92e-05, rL2 - 2.30e-05\n",
      "cosine-singular m-31 : L1 - 1.71e-05, rL2 - 2.03e-05\n",
      "------------------------------------------------------\n",
      "lnabs-singular m-3 : L1 - 4.31e-01, rL2 - 3.04e-03\n",
      "lnabs-singular m-7 : L1 - 3.25e-01, rL2 - 2.55e-03\n",
      "lnabs-singular m-15 : L1 - 2.75e-01, rL2 - 2.35e-03\n",
      "lnabs-singular m-31 : L1 - 2.51e-01, rL2 - 2.26e-03\n",
      "------------------------------------------------------\n",
      "laplace-singular m-3 : L1 - 1.12e-09, rL2 - 3.44e-07\n",
      "laplace-singular m-7 : L1 - 1.12e-09, rL2 - 3.44e-07\n",
      "laplace-singular m-15 : L1 - 1.12e-09, rL2 - 3.44e-07\n",
      "laplace-singular m-31 : L1 - 1.12e-09, rL2 - 3.44e-07\n",
      "------------------------------------------------------\n"
     ]
    }
   ],
   "source": [
    "l = 13 # number of level, total number of points is 2^l-1\n",
    "k = 5 # number of corase level\n",
    "order = 2 # order of interpolation/restriction\n",
    "\n",
    "for kernel in ['cosine', 'lnabs', 'laplace']:\n",
    "    for m in [3, 7, 15, 31]:\n",
    "        uh, Khh, h, wh_numeric, wh_analytic, xh = reference_test(l, kernel)\n",
    "        wh_singular_ml, KHH, Khh_banddiff_lst, boundary_lst, idx_j_lst = SingularSmoothKernelMLMM_local(uh, Khh, h, k, order, m=m)\n",
    "        l1 = l1_norm(wh_singular_ml[-1], wh_numeric)\n",
    "        rl2 = rl2_error(wh_singular_ml[-1], wh_numeric)\n",
    "        print(\"{:}-singular m-{:} : L1 - {:.2e}, rL2 - {:.2e}\".format(kernel, m, l1, rl2))\n",
    "    print('------------------------------------------------------')"
   ]
  },
  {
   "cell_type": "markdown",
   "metadata": {},
   "source": [
    "#### MLMM accuracy on different level of coarse"
   ]
  },
  {
   "cell_type": "code",
   "execution_count": 7,
   "metadata": {},
   "outputs": [
    {
     "name": "stdout",
     "output_type": "stream",
     "text": [
      "cosine-singular k-1 : L1 - 3.19e-07, rL2 - 4.61e-07\n",
      "cosine-singular k-2 : L1 - 3.98e-07, rL2 - 5.61e-07\n",
      "cosine-singular k-3 : L1 - 1.31e-06, rL2 - 1.63e-06\n",
      "cosine-singular k-4 : L1 - 5.18e-06, rL2 - 6.26e-06\n",
      "cosine-singular k-5 : L1 - 2.03e-05, rL2 - 2.44e-05\n",
      "------------------------------------------------------\n",
      "lnabs-singular k-1 : L1 - 1.08e-02, rL2 - 8.78e-05\n",
      "lnabs-singular k-2 : L1 - 3.24e-02, rL2 - 2.61e-04\n",
      "lnabs-singular k-3 : L1 - 7.52e-02, rL2 - 6.02e-04\n",
      "lnabs-singular k-4 : L1 - 1.60e-01, rL2 - 1.27e-03\n",
      "lnabs-singular k-5 : L1 - 3.25e-01, rL2 - 2.55e-03\n",
      "------------------------------------------------------\n",
      "laplace-singular k-1 : L1 - 1.33e-09, rL2 - 4.11e-07\n",
      "laplace-singular k-2 : L1 - 1.21e-09, rL2 - 3.70e-07\n",
      "laplace-singular k-3 : L1 - 1.15e-09, rL2 - 3.52e-07\n",
      "laplace-singular k-4 : L1 - 1.12e-09, rL2 - 3.45e-07\n",
      "laplace-singular k-5 : L1 - 1.12e-09, rL2 - 3.44e-07\n",
      "------------------------------------------------------\n"
     ]
    }
   ],
   "source": [
    "l = 13 # number of level, total number of points is 2^l-1\n",
    "m = 7 # number of corase level\n",
    "order = 2 # order of interpolation/restriction\n",
    "\n",
    "for kernel in ['cosine', 'lnabs', 'laplace']:\n",
    "    for k in [1, 2, 3, 4, 5]:\n",
    "        uh, Khh, h, wh_numeric, wh_analytic, xh = reference_test(l, kernel)\n",
    "        wh_singular_ml, KHH, Khh_banddiff_lst, boundary_lst, idx_j_lst = SingularSmoothKernelMLMM_local(uh, Khh, h, k=k, order=order, m=m)\n",
    "        l1 = l1_norm(wh_singular_ml[-1], wh_numeric)\n",
    "        rl2 = rl2_error(wh_singular_ml[-1], wh_numeric)\n",
    "        print(\"{:}-singular k-{:} : L1 - {:.2e}, rL2 - {:.2e}\".format(kernel, k, l1, rl2))\n",
    "    print('------------------------------------------------------')"
   ]
  },
  {
   "cell_type": "markdown",
   "metadata": {},
   "source": [
    "MLMM speed test"
   ]
  },
  {
   "cell_type": "code",
   "execution_count": 9,
   "metadata": {},
   "outputs": [],
   "source": [
    "k = 3\n",
    "order=2\n",
    "m =7\n",
    "wh_singular_ml, KHH, Khh_banddiff_lst, boundary_lst, idx_j_lst = SingularSmoothKernelMLMM_local(uh, Khh, h, k, order, m)"
   ]
  },
  {
   "cell_type": "code",
   "execution_count": 10,
   "metadata": {},
   "outputs": [
    {
     "name": "stdout",
     "output_type": "stream",
     "text": [
      "16.5 ms ± 59.5 µs per loop (mean ± std. dev. of 7 runs, 100 loops each)\n"
     ]
    }
   ],
   "source": [
    "%%timeit \n",
    "wh = multi_summation(Khh, uh, h)"
   ]
  },
  {
   "cell_type": "code",
   "execution_count": 11,
   "metadata": {},
   "outputs": [
    {
     "name": "stdout",
     "output_type": "stream",
     "text": [
      "754 µs ± 6.57 µs per loop (mean ± std. dev. of 7 runs, 1,000 loops each)\n"
     ]
    }
   ],
   "source": [
    "%%timeit\n",
    "wh_mlmm = SmoothKernelMLMM(KHH, uh, h, k)"
   ]
  },
  {
   "cell_type": "code",
   "execution_count": 13,
   "metadata": {},
   "outputs": [
    {
     "name": "stdout",
     "output_type": "stream",
     "text": [
      "891 ms ± 10.4 ms per loop (mean ± std. dev. of 7 runs, 1 loop each)\n"
     ]
    }
   ],
   "source": [
    "%%timeit\n",
    "wh_ml, KHH = SingularSmoothKernelMLMM_full(uh, Khh, h, k, order)"
   ]
  },
  {
   "cell_type": "code",
   "execution_count": 12,
   "metadata": {},
   "outputs": [
    {
     "name": "stdout",
     "output_type": "stream",
     "text": [
      "2.84 ms ± 20.1 µs per loop (mean ± std. dev. of 7 runs, 100 loops each)\n"
     ]
    }
   ],
   "source": [
    "%%timeit\n",
    "wh_mlmm = SingularSmoothKernelMLMM(KHH, uh, Khh_banddiff_lst, boundary_lst, idx_j_lst, h, k=k)"
   ]
  },
  {
   "cell_type": "markdown",
   "metadata": {},
   "source": [
    "Kernel Reconstruction"
   ]
  },
  {
   "cell_type": "code",
   "execution_count": 6,
   "metadata": {},
   "outputs": [],
   "source": [
    "l = 6 \n",
    "k = 4\n",
    "m = 3\n",
    "order = 2\n",
    "uh, Khh, h, wh_numeric, wh_analytic, xh = reference_test(l, 'lnabs')\n",
    "wh_singular_ml, KHH, Khh_banddiff_lst, boundary_lst, idx_j_lst = SingularSmoothKernelMLMM_local(uh, Khh, h, k, order, m)"
   ]
  },
  {
   "cell_type": "code",
   "execution_count": 7,
   "metadata": {},
   "outputs": [
    {
     "name": "stdout",
     "output_type": "stream",
     "text": [
      "smooth reconstruction : 2.5295588970184326\n",
      "singular smooth reconstruction : 0.001982837449759245\n"
     ]
    }
   ],
   "source": [
    "wh_singular_ml, KHH, Khh_banddiff_lst, boundary_lst, idx_j_lst = SingularSmoothKernelMLMM_local(uh, Khh, h, k, order, m)\n",
    "Khh_smooth = SmoothKernelReconstruction(KHH, l, k)\n",
    "rl2 = matrl2_error(Khh_smooth[-1][0,0], Khh[0,0]).item()\n",
    "print(f'smooth reconstruction : {rl2}')\n",
    "\n",
    "Khh_singular = SingularSmoothKernelReconstruction(KHH, Khh_banddiff_lst, l, k, m)\n",
    "rl2 = matrl2_error(Khh_singular[-1][0,0], Khh[0,0]).item()\n",
    "print(f\"singular smooth reconstruction : {rl2}\")"
   ]
  },
  {
   "cell_type": "code",
   "execution_count": 8,
   "metadata": {},
   "outputs": [
    {
     "data": {
      "image/png": "[encoded data removed]",
      "text/plain": [
       "<Figure size 1000x400 with 8 Axes>"
      ]
     },
     "metadata": {},
     "output_type": "display_data"
    }
   ],
   "source": [
    "fig, axs = plt.subplots(2, k, figsize=(10, 4))\n",
    "for i in range(k):\n",
    "    axs[0,i].imshow(Khh_smooth[i][0,0], vmin=Khh.min().item(), vmax = Khh.max().item())\n",
    "    axs[0,i].axis('off')\n",
    "    axs[1,i].imshow(Khh_singular[i][0,0], vmin=Khh.min().item(), vmax = Khh.max().item())\n",
    "    axs[1,i].axis('off')"
   ]
  },
  {
   "cell_type": "markdown",
   "metadata": {},
   "source": [
    "local correction SVD : S is usually small, therefore correction is always low-rank"
   ]
  },
  {
   "cell_type": "code",
   "execution_count": null,
   "metadata": {},
   "outputs": [],
   "source": []
  }
 ],
 "metadata": {
  "kernelspec": {
   "display_name": "base",
   "language": "python",
   "name": "python3"
  },
  "language_info": {
   "codemirror_mode": {
    "name": "ipython",
    "version": 3
   },
   "file_extension": ".py",
   "mimetype": "text/x-python",
   "name": "python",
   "nbconvert_exporter": "python",
   "pygments_lexer": "ipython3",
   "version": "3.10.9"
  }
 },
 "nbformat": 4,
 "nbformat_minor": 2
}
