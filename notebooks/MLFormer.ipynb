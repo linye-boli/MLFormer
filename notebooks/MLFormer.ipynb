{
 "cells": [
  {
   "cell_type": "code",
   "execution_count": 1,
   "metadata": {},
   "outputs": [],
   "source": [
    "import sys \n",
    "sys.path.append('../')\n",
    "\n",
    "import torch \n",
    "import matplotlib.pyplot as plt\n",
    "from utils import * \n",
    "from mlmm import *\n",
    "from dataset import *"
   ]
  },
  {
   "cell_type": "code",
   "execution_count": 92,
   "metadata": {},
   "outputs": [],
   "source": [
    "l = 7 # number of level, total number of points is 2^l-1\n",
    "k = 3 # number of corase level\n",
    "m = 7 # local range for correction\n",
    "order = 2 # order of interpolation/restriction"
   ]
  },
  {
   "cell_type": "code",
   "execution_count": 93,
   "metadata": {},
   "outputs": [
    {
     "name": "stdout",
     "output_type": "stream",
     "text": [
      "m - 7, L1 - 9.00e-03, rL2 - 6.13e-03\n"
     ]
    }
   ],
   "source": [
    "uh, Khh, h, wh_numeric, wh_analytic, xh = reference_test(l, 'lnabs')\n",
    "wh_mlmm, KHH, Khh_correction_lst, nbr_idx_lst = SingularSmoothKernelMLMM_full(uh, Khh, h, k, order, m)\n",
    "l1 = l1_norm(wh_mlmm, wh_numeric)\n",
    "rl2 = rl2_error(wh_mlmm, wh_numeric)\n",
    "print(\"m - {:}, L1 - {:.2e}, rL2 - {:.2e}\".format(m, l1, rl2))"
   ]
  },
  {
   "cell_type": "code",
   "execution_count": 125,
   "metadata": {},
   "outputs": [],
   "source": [
    "n = 8\n",
    "K = np.random.randn(1023, n)\n",
    "for i in range(n//2-1):\n",
    "    K[i,:n//2-i-1] = 0\n",
    "    K[-i-1,-(n//2-i-1):] = 0"
   ]
  },
  {
   "cell_type": "code",
   "execution_count": 143,
   "metadata": {},
   "outputs": [],
   "source": []
  },
  {
   "cell_type": "code",
   "execution_count": 153,
   "metadata": {},
   "outputs": [
    {
     "data": {
      "text/plain": [
       "4"
      ]
     },
     "execution_count": 153,
     "metadata": {},
     "output_type": "execute_result"
    }
   ],
   "source": [
    "((n-1)//2 - 1)//2 + 1"
   ]
  },
  {
   "cell_type": "code",
   "execution_count": 161,
   "metadata": {},
   "outputs": [],
   "source": [
    "n = 15\n",
    "K = np.random.randn(1024, n)\n",
    "for i in range((n-1)//2):\n",
    "    K[i,:(n-1)//2-i*2] = 0\n",
    "    K[-1-i,-((n-1)//2-i*2):] = 0\n",
    "\n",
    "    \n",
    "    if (n-1)//2 - i*2 == 1:\n",
    "        break "
   ]
  },
  {
   "cell_type": "code",
   "execution_count": 56,
   "metadata": {},
   "outputs": [],
   "source": [
    "U, S, Vh = torch.linalg.svd(KHH[0][0])"
   ]
  },
  {
   "cell_type": "code",
   "execution_count": 57,
   "metadata": {},
   "outputs": [
    {
     "data": {
      "text/plain": [
       "tensor([103.8030, 102.3428,  99.7264,  99.0398,  98.5581,  98.3297,  98.2002])"
      ]
     },
     "execution_count": 57,
     "metadata": {},
     "output_type": "execute_result"
    }
   ],
   "source": [
    "S"
   ]
  },
  {
   "cell_type": "code",
   "execution_count": 40,
   "metadata": {},
   "outputs": [
    {
     "data": {
      "text/plain": [
       "[<matplotlib.lines.Line2D at 0x7f8329d77790>]"
      ]
     },
     "execution_count": 40,
     "metadata": {},
     "output_type": "execute_result"
    },
    {
     "data": {
      "image/png": "[encoded data removed]",
      "text/plain": [
       "<Figure size 640x480 with 1 Axes>"
      ]
     },
     "metadata": {},
     "output_type": "display_data"
    }
   ],
   "source": [
    "plt.plot(S)"
   ]
  },
  {
   "cell_type": "code",
   "execution_count": 29,
   "metadata": {},
   "outputs": [
    {
     "data": {
      "text/plain": [
       "tensor([0.0000e+00, 0.0000e+00, 0.0000e+00, 0.0000e+00, 0.0000e+00, 0.0000e+00,\n",
       "        0.0000e+00, 0.0000e+00, 0.0000e+00, 0.0000e+00, 0.0000e+00, 0.0000e+00,\n",
       "        0.0000e+00, 0.0000e+00, 0.0000e+00, 0.0000e+00, 0.0000e+00, 0.0000e+00,\n",
       "        0.0000e+00, 0.0000e+00, 0.0000e+00, 0.0000e+00, 0.0000e+00, 0.0000e+00,\n",
       "        0.0000e+00, 0.0000e+00, 0.0000e+00, 0.0000e+00, 0.0000e+00, 0.0000e+00,\n",
       "        0.0000e+00, 4.3069e+01, 4.6188e+01, 5.8892e-02, 2.0411e-02, 1.0310e-02,\n",
       "        6.2113e-03, 4.1494e-03, 2.9674e-03, 2.2273e-03, 1.7333e-03, 1.3869e-03,\n",
       "        1.1351e-03, 9.4604e-04, 8.0061e-04, 6.8641e-04, 5.9462e-04, 5.2047e-04,\n",
       "        4.5943e-04, 4.0841e-04, 3.6550e-04, 3.2878e-04, 2.9755e-04, 2.7061e-04,\n",
       "        2.4700e-04, 2.2650e-04, 2.0838e-04, 1.9217e-04, 1.7810e-04, 1.6546e-04,\n",
       "        1.5402e-04, 1.4377e-04, 1.3447e-04, 1.2612e-04])"
      ]
     },
     "execution_count": 29,
     "metadata": {},
     "output_type": "execute_result"
    }
   ],
   "source": [
    "Khh_correction_lst[0][0][0,0][0]"
   ]
  },
  {
   "cell_type": "code",
   "execution_count": 4,
   "metadata": {},
   "outputs": [],
   "source": [
    "mlformer = MLFormer(rank=4, m=7, k=3, l=13, h=h)"
   ]
  },
  {
   "cell_type": "code",
   "execution_count": 5,
   "metadata": {},
   "outputs": [
    {
     "data": {
      "text/plain": [
       "torch.Size([64, 1, 8191])"
      ]
     },
     "execution_count": 5,
     "metadata": {},
     "output_type": "execute_result"
    }
   ],
   "source": [
    "mlformer(uh.repeat(64,1,1)).shape"
   ]
  },
  {
   "cell_type": "code",
   "execution_count": 6,
   "metadata": {},
   "outputs": [],
   "source": [
    "upath = './data/kernel_estimation/grf1d_N2000_s8193_m0_gamma1_tau1_sigma1_dirichlet.mat'\n",
    "wpath = './data/kernel_estimation/cosine_8191.npy'\n",
    "train_loader, test_loader, Khh, xh, h = load_dataset_1d(upath, wpath)"
   ]
  },
  {
   "cell_type": "code",
   "execution_count": 7,
   "metadata": {},
   "outputs": [],
   "source": [
    "u, w = next(iter(train_loader))"
   ]
  },
  {
   "cell_type": "code",
   "execution_count": 8,
   "metadata": {},
   "outputs": [
    {
     "data": {
      "text/plain": [
       "0.7860814332962036"
      ]
     },
     "execution_count": 8,
     "metadata": {},
     "output_type": "execute_result"
    }
   ],
   "source": [
    "rl2_error(u, w).item()"
   ]
  },
  {
   "cell_type": "code",
   "execution_count": 9,
   "metadata": {},
   "outputs": [
    {
     "name": "stdout",
     "output_type": "stream",
     "text": [
      "torch.Size([1023, 4])\n",
      "torch.Size([1023, 4])\n",
      "torch.Size([1, 4])\n",
      "torch.Size([1023, 4])\n",
      "torch.Size([8, 4])\n",
      "torch.Size([1, 4])\n",
      "torch.Size([1024, 4])\n",
      "torch.Size([15, 4])\n",
      "torch.Size([1, 4])\n",
      "torch.Size([2047, 4])\n",
      "torch.Size([8, 4])\n",
      "torch.Size([1, 4])\n",
      "torch.Size([2048, 4])\n",
      "torch.Size([15, 4])\n",
      "torch.Size([1, 4])\n",
      "torch.Size([4095, 4])\n",
      "torch.Size([8, 4])\n",
      "torch.Size([1, 4])\n",
      "torch.Size([4096, 4])\n",
      "torch.Size([15, 4])\n",
      "torch.Size([1, 4])\n"
     ]
    }
   ],
   "source": [
    "for p in mlformer.parameters():\n",
    "    print(p.shape)"
   ]
  },
  {
   "cell_type": "code",
   "execution_count": null,
   "metadata": {},
   "outputs": [],
   "source": []
  }
 ],
 "metadata": {
  "kernelspec": {
   "display_name": "base",
   "language": "python",
   "name": "python3"
  },
  "language_info": {
   "codemirror_mode": {
    "name": "ipython",
    "version": 3
   },
   "file_extension": ".py",
   "mimetype": "text/x-python",
   "name": "python",
   "nbconvert_exporter": "python",
   "pygments_lexer": "ipython3",
   "version": "3.10.11"
  }
 },
 "nbformat": 4,
 "nbformat_minor": 2
}
