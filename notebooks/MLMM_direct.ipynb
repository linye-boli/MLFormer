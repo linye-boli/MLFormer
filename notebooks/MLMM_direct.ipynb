{
 "cells": [
  {
   "cell_type": "code",
   "execution_count": 1,
   "metadata": {},
   "outputs": [],
   "source": [
    "import sys \n",
    "sys.path.append('../')\n",
    "import torch \n",
    "import matplotlib.pyplot as plt\n",
    "from utils import * \n",
    "from mlmm import *\n",
    "from dataset import reference_test, load_dataset_1d"
   ]
  },
  {
   "cell_type": "code",
   "execution_count": 2,
   "metadata": {},
   "outputs": [],
   "source": [
    "l = 8 # number of level, total number of points is 2^l-1\n",
    "k = 3 # number of corase level\n",
    "m = 7 # local range for correction\n",
    "order = 4 # order of interpolation/restriction"
   ]
  },
  {
   "cell_type": "code",
   "execution_count": 3,
   "metadata": {},
   "outputs": [],
   "source": [
    "uh, Khh, h, wh_numeric, wh_analytic, xh = reference_test(l, 'lnabs')"
   ]
  },
  {
   "cell_type": "code",
   "execution_count": 4,
   "metadata": {},
   "outputs": [],
   "source": [
    "task_nm = 'lnabs'\n",
    "upath = '/workdir/MLFormer/data/kernel_estimation/grf1d_N2000_s8193_m0_gamma1_tau1_sigma1_dirichlet.mat'\n",
    "wpath = f'/workdir/MLFormer/data/kernel_estimation/{task_nm}_8193.npy'\n",
    "train_loader, test_loader, Khh, xh, h = load_dataset_1d(task_nm, upath, wpath, bsz=20)"
   ]
  },
  {
   "cell_type": "code",
   "execution_count": 5,
   "metadata": {},
   "outputs": [],
   "source": [
    "train_loader, test_loader, Khh, xh, h = load_dataset_1d(task_nm, upath, wpath, bsz=20)\n",
    "uh, wh_numeric = train_loader.dataset[1]\n",
    "uh = uh[None]\n",
    "wh_numeric = multi_summation(Khh, uh, h)"
   ]
  },
  {
   "cell_type": "code",
   "execution_count": 6,
   "metadata": {},
   "outputs": [
    {
     "name": "stdout",
     "output_type": "stream",
     "text": [
      "l1 :  tensor(1.6028e-05)\n",
      "rl2 :  tensor(0.0001)\n",
      "l1 :  tensor(1.6028e-05)\n",
      "rl2 :  tensor(0.0001)\n"
     ]
    }
   ],
   "source": [
    "wh_ml, KHH, Khh_banddiff_lst, idx_j_lst = SingularSmoothKernelMLMM_local(uh, Khh, h, k=k, m=m)\n",
    "print('l1 : ', l1_norm((wh_ml[-1]), wh_numeric))\n",
    "print('rl2 : ', rl2_error((wh_ml[-1]), wh_numeric))\n",
    "wh_ml = SingularSmoothKernelMLMM(KHH, uh, Khh_banddiff_lst, idx_j_lst, h, k=k)\n",
    "print('l1 : ', l1_norm((wh_ml[-1]), wh_numeric))\n",
    "print('rl2 : ', rl2_error((wh_ml[-1]), wh_numeric))"
   ]
  },
  {
   "cell_type": "code",
   "execution_count": 27,
   "metadata": {},
   "outputs": [
    {
     "name": "stdout",
     "output_type": "stream",
     "text": [
      "l1 :  tensor(1.6028e-05)\n",
      "rl2 :  tensor(0.0001)\n"
     ]
    }
   ],
   "source": [
    "print('l1 : ', l1_norm((wh_ml[-1]), wh_numeric))\n",
    "print('rl2 : ', rl2_error((wh_ml[-1]), wh_numeric))"
   ]
  },
  {
   "cell_type": "code",
   "execution_count": 14,
   "metadata": {},
   "outputs": [
    {
     "data": {
      "text/plain": [
       "<matplotlib.legend.Legend at 0x7f51d014ebf0>"
      ]
     },
     "execution_count": 14,
     "metadata": {},
     "output_type": "execute_result"
    },
    {
     "data": {
      "image/png": "[encoded data removed]",
      "text/plain": [
       "<Figure size 640x480 with 1 Axes>"
      ]
     },
     "metadata": {},
     "output_type": "display_data"
    }
   ],
   "source": [
    "# plt.plot(xh_ml[0][0,0], wh_ml[0][0,0], '-b', label='level-0')\n",
    "# plt.plot(xh_ml[-1][0,0], wh_ml[-1][0,0], '-.y', label='level-1')\n",
    "\n",
    "plt.plot(xh[0,0], uh[0,0], '--b', label='uh')\n",
    "plt.plot(xh[0,0], wh_numeric[0,0], '-r', label='wh-full')\n",
    "plt.plot(xh[0,0], wh_ml[-1][0,0], '-.g', label=f'wh-level{k}')\n",
    "plt.xlim([-1.001, -0.999])\n",
    "plt.legend()"
   ]
  },
  {
   "cell_type": "code",
   "execution_count": null,
   "metadata": {},
   "outputs": [],
   "source": []
  }
 ],
 "metadata": {
  "kernelspec": {
   "display_name": "base",
   "language": "python",
   "name": "python3"
  },
  "language_info": {
   "codemirror_mode": {
    "name": "ipython",
    "version": 3
   },
   "file_extension": ".py",
   "mimetype": "text/x-python",
   "name": "python",
   "nbconvert_exporter": "python",
   "pygments_lexer": "ipython3",
   "version": "3.10.11"
  }
 },
 "nbformat": 4,
 "nbformat_minor": 2
}
