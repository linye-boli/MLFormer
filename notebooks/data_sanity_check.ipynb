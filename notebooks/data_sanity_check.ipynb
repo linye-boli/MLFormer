{
 "cells": [
  {
   "cell_type": "code",
   "execution_count": 1,
   "metadata": {},
   "outputs": [],
   "source": [
    "import sys \n",
    "sys.path.append('../')\n",
    "\n",
    "import scipy\n",
    "import numpy as np\n",
    "import matplotlib.pyplot as plt\n",
    "from dataset import numerical_kernel\n",
    "from utils import *\n",
    "from mlmm import * \n",
    "import torch\n",
    "import numpy as np\n",
    "from dataset import load_dataset_1d"
   ]
  },
  {
   "cell_type": "markdown",
   "metadata": {},
   "source": [
    "Logarithm & Cosine Kernel Dataset Generation"
   ]
  },
  {
   "cell_type": "code",
   "execution_count": 2,
   "metadata": {},
   "outputs": [],
   "source": [
    "## create logarithm kernel dataset\n",
    "# raw_data = scipy.io.loadmat('../../pde_data/green_learning/data1d_8193/laplace.mat')\n",
    "# raw_data['ExactGreen'] = np.array(['np.nan_to_num(np.log(np.abs(x-y)), neginf=-100)'])\n",
    "# F = raw_data['F']\n",
    "# U_hom = raw_data['U_hom']\n",
    "# X, Y = raw_data['X'], raw_data['Y']\n",
    "# x, y = np.meshgrid(X, Y)\n",
    "# K = eval(raw_data['ExactGreen'][0]).T\n",
    "# h = X[1] - X[0]\n",
    "# U = h * K @ F\n",
    "# raw_data['U'] = U \n",
    "# scipy.io.savemat('../../pde_data/green_learning/data1d_8193/logarithm.mat', raw_data)"
   ]
  },
  {
   "cell_type": "code",
   "execution_count": 3,
   "metadata": {},
   "outputs": [],
   "source": [
    "## create cosine kernel dataset\n",
    "# raw_data = scipy.io.loadmat('../../pde_data/green_learning/data1d_8193/laplace.mat')\n",
    "# raw_data['ExactGreen'] = np.array(['np.cos(x-y)'])\n",
    "# F = raw_data['F']\n",
    "# U_hom = raw_data['U_hom']\n",
    "# X, Y = raw_data['X'], raw_data['Y']\n",
    "# x, y = np.meshgrid(X, Y)\n",
    "# K = eval(raw_data['ExactGreen'][0]).T\n",
    "# h = X[1] - X[0]\n",
    "# U = h * K @ F\n",
    "# raw_data['U'] = U \n",
    "# scipy.io.savemat('../../pde_data/green_learning/data1d_8193/cosine.mat', raw_data)"
   ]
  },
  {
   "cell_type": "markdown",
   "metadata": {},
   "source": [
    "Other Dataset Sanity Check"
   ]
  },
  {
   "cell_type": "code",
   "execution_count": 43,
   "metadata": {},
   "outputs": [
    {
     "ename": "KeyError",
     "evalue": "'ExactGreen'",
     "output_type": "error",
     "traceback": [
      "\u001b[0;31m---------------------------------------------------------------------------\u001b[0m",
      "\u001b[0;31mKeyError\u001b[0m                                  Traceback (most recent call last)",
      "\u001b[1;32m/workdir/MLFormer/notebooks/data_sanity_check.ipynb Cell 6\u001b[0m line \u001b[0;36m7\n\u001b[1;32m      <a href='vscode-notebook-cell://attached-container%2B7b22636f6e7461696e65724e616d65223a222f4d494e4f227d@ssh-remote%2B192.168.203.39/workdir/MLFormer/notebooks/data_sanity_check.ipynb#W3sdnNjb2RlLXJlbW90ZQ%3D%3D?line=4'>5</a>\u001b[0m X, Y \u001b[39m=\u001b[39m raw_data[\u001b[39m'\u001b[39m\u001b[39mX\u001b[39m\u001b[39m'\u001b[39m], raw_data[\u001b[39m'\u001b[39m\u001b[39mY\u001b[39m\u001b[39m'\u001b[39m]\n\u001b[1;32m      <a href='vscode-notebook-cell://attached-container%2B7b22636f6e7461696e65724e616d65223a222f4d494e4f227d@ssh-remote%2B192.168.203.39/workdir/MLFormer/notebooks/data_sanity_check.ipynb#W3sdnNjb2RlLXJlbW90ZQ%3D%3D?line=5'>6</a>\u001b[0m x, y \u001b[39m=\u001b[39m np\u001b[39m.\u001b[39mmeshgrid(X, Y)\n\u001b[0;32m----> <a href='vscode-notebook-cell://attached-container%2B7b22636f6e7461696e65724e616d65223a222f4d494e4f227d@ssh-remote%2B192.168.203.39/workdir/MLFormer/notebooks/data_sanity_check.ipynb#W3sdnNjb2RlLXJlbW90ZQ%3D%3D?line=6'>7</a>\u001b[0m K \u001b[39m=\u001b[39m \u001b[39meval\u001b[39m(raw_data[\u001b[39m'\u001b[39;49m\u001b[39mExactGreen\u001b[39;49m\u001b[39m'\u001b[39;49m][\u001b[39m0\u001b[39m])\u001b[39m.\u001b[39mT\n\u001b[1;32m      <a href='vscode-notebook-cell://attached-container%2B7b22636f6e7461696e65724e616d65223a222f4d494e4f227d@ssh-remote%2B192.168.203.39/workdir/MLFormer/notebooks/data_sanity_check.ipynb#W3sdnNjb2RlLXJlbW90ZQ%3D%3D?line=7'>8</a>\u001b[0m h \u001b[39m=\u001b[39m X[\u001b[39m1\u001b[39m] \u001b[39m-\u001b[39m X[\u001b[39m0\u001b[39m]\n\u001b[1;32m      <a href='vscode-notebook-cell://attached-container%2B7b22636f6e7461696e65724e616d65223a222f4d494e4f227d@ssh-remote%2B192.168.203.39/workdir/MLFormer/notebooks/data_sanity_check.ipynb#W3sdnNjb2RlLXJlbW90ZQ%3D%3D?line=8'>9</a>\u001b[0m U_ \u001b[39m=\u001b[39m h \u001b[39m*\u001b[39m K \u001b[39m@\u001b[39m F \u001b[39m+\u001b[39m U_hom\n",
      "\u001b[0;31mKeyError\u001b[0m: 'ExactGreen'"
     ]
    }
   ],
   "source": [
    "raw_data = scipy.io.loadmat('../../pde_data/green_learning/data1d_8193/viscous_shock.mat')\n",
    "F = raw_data['F'] \n",
    "U = raw_data['U']\n",
    "U_hom = raw_data['U_hom']\n",
    "X, Y = raw_data['X'], raw_data['Y']\n",
    "x, y = np.meshgrid(X, Y)\n",
    "K = eval(raw_data['ExactGreen'][0]).T\n",
    "h = X[1] - X[0]\n",
    "U_ = h * K @ F + U_hom"
   ]
  },
  {
   "cell_type": "markdown",
   "metadata": {},
   "source": [
    "DataLoader Check"
   ]
  },
  {
   "cell_type": "code",
   "execution_count": 23,
   "metadata": {},
   "outputs": [
    {
     "name": "stderr",
     "output_type": "stream",
     "text": [
      "<string>:1: RuntimeWarning: divide by zero encountered in log\n"
     ]
    },
    {
     "data": {
      "text/plain": [
       "[<matplotlib.lines.Line2D at 0x7fc15c92ce20>]"
      ]
     },
     "execution_count": 23,
     "metadata": {},
     "output_type": "execute_result"
    },
    {
     "data": {
      "image/png": "[encoded data removed]",
      "text/plain": [
       "<Figure size 640x480 with 1 Axes>"
      ]
     },
     "metadata": {},
     "output_type": "display_data"
    }
   ],
   "source": [
    "data_root = '../../pde_data/green_learning/data1d_8193/'\n",
    "kernel = 'logarithm'\n",
    "train_loader, test_loader, Khh, w_hom, xh, grid_pts, h = load_dataset_1d(kernel, data_root, bsz=128)\n",
    "uh, wh = next(iter(train_loader))\n",
    "wh_ = multi_summation(Khh, uh[[0]], h)\n",
    "plt.plot(xh, wh[0,0])\n",
    "plt.plot(xh, wh_[0,0])"
   ]
  },
  {
   "cell_type": "code",
   "execution_count": 36,
   "metadata": {},
   "outputs": [
    {
     "name": "stdout",
     "output_type": "stream",
     "text": [
      "logarithm-smooth : L1 - 1.13e+00, rL2 - 6.59e+00\n",
      "logarithm-singular : L1 - 1.13e+00, rL2 - 8.23e-02\n"
     ]
    }
   ],
   "source": [
    "l = 13 # number of level, total number of points is 2^l-1\n",
    "k = 8 # number of corase level\n",
    "m = 7 # local range for correction\n",
    "order = 2 # order of interpolation/restriction\n",
    "\n",
    "wh_smooth_ml, KHH = SmoothKernelMLMM_full(uh, Khh, h, k, order)\n",
    "l1 = l1_norm(wh_smooth_ml[-1], wh)\n",
    "rl2 = rl2_error(wh_smooth_ml[-1], wh)\n",
    "print(\"{:}-smooth : L1 - {:.2e}, rL2 - {:.2e}\".format(kernel, l1, rl2))\n",
    "wh_singular_ml, KHH, Khh_banddiff_lst, boundary_lst, idx_j_lst = SingularSmoothKernelMLMM_local(uh, Khh, h, k, order, m)\n",
    "# wh_ml, KHH = SingularSmoothKernelMLMM_full(uh, Khh, h, k, order)\n",
    "l1 = l1_norm(wh_smooth_ml[-1], wh)\n",
    "rl2 = rl2_error(wh_singular_ml[-1], wh)\n",
    "print(\"{:}-singular : L1 - {:.2e}, rL2 - {:.2e}\".format(kernel, l1, rl2))"
   ]
  }
 ],
 "metadata": {
  "kernelspec": {
   "display_name": "base",
   "language": "python",
   "name": "python3"
  },
  "language_info": {
   "codemirror_mode": {
    "name": "ipython",
    "version": 3
   },
   "file_extension": ".py",
   "mimetype": "text/x-python",
   "name": "python",
   "nbconvert_exporter": "python",
   "pygments_lexer": "ipython3",
   "version": "3.10.9"
  }
 },
 "nbformat": 4,
 "nbformat_minor": 2
}
